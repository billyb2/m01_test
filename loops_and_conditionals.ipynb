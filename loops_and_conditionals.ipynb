{
 "cells": [
  {
   "cell_type": "code",
   "execution_count": 12,
   "id": "b086b820",
   "metadata": {},
   "outputs": [
    {
     "name": "stdout",
     "output_type": "stream",
     "text": [
      "Guess a number bewteen 1 and 10: 4\n",
      "just right\n"
     ]
    }
   ],
   "source": [
    "# 4.1\n",
    "\n",
    "secret = 4\n",
    "guess = int(input(\"Guess a number bewteen 1 and 10: \"))\n",
    "\n",
    "if guess > secret:\n",
    "    print(\"Too high\")\n",
    "\n",
    "elif guess < secret:\n",
    "    print(\"Too low\")\n",
    "    \n",
    "else:\n",
    "    print(\"just right\")"
   ]
  },
  {
   "cell_type": "code",
   "execution_count": 9,
   "id": "8bd52caa",
   "metadata": {},
   "outputs": [
    {
     "name": "stdout",
     "output_type": "stream",
     "text": [
      "Cherry is small and not green\n",
      "Pea is small and green\n",
      "Watermelon is not small and green\n",
      "Pumpkin is not small and not green\n"
     ]
    }
   ],
   "source": [
    "# 4.2\n",
    "# Gonna be totally honest I didn't get the prompt too well, \n",
    "# so I just did it in a way that still involved conditionals\n",
    "# Would've just used classes, but idk if that's too much\n",
    "\n",
    "small = True\n",
    "green = False\n",
    "\n",
    "fruit_names = [\"Cherry\", \"Pea\", \"Watermelon\", \"Pumpkin\"]\n",
    "is_small =    [True,      True, False,         False]\n",
    "is_green =    [False,     True, True,          False]\n",
    "\n",
    "for i in range(0, len(fruit_names)):\n",
    "    text_to_print = fruit_names[i] + \" is \"\n",
    "    \n",
    "    if not is_small[i]:\n",
    "        text_to_print += \"not \"\n",
    "        \n",
    "    text_to_print += \"small and \"\n",
    "    \n",
    "    if not is_green[i]:\n",
    "        text_to_print += \"not \"\n",
    "        \n",
    "    text_to_print += \"green\"    \n",
    "\n",
    "    print(text_to_print)"
   ]
  },
  {
   "cell_type": "code",
   "execution_count": 16,
   "id": "7165f39b",
   "metadata": {},
   "outputs": [
    {
     "name": "stdout",
     "output_type": "stream",
     "text": [
      "too low\n",
      "too low\n",
      "too low\n",
      "too low\n",
      "too low\n",
      "too low\n",
      "found it!\n"
     ]
    }
   ],
   "source": [
    "# 6.2\n",
    "\n",
    "guess_me = 7\n",
    "number = 1\n",
    "\n",
    "while True:\n",
    "    if number < guess_me:\n",
    "        print(\"too low\")\n",
    "        \n",
    "    elif number > guess_me:\n",
    "        print(\"oops\")\n",
    "        break\n",
    "        \n",
    "    else:\n",
    "        print(\"found it!\")\n",
    "        break\n",
    "        \n",
    "    number += 1"
   ]
  },
  {
   "cell_type": "code",
   "execution_count": 15,
   "id": "5dc0ad37",
   "metadata": {},
   "outputs": [
    {
     "name": "stdout",
     "output_type": "stream",
     "text": [
      "too low\n",
      "too low\n",
      "too low\n",
      "too low\n",
      "too low\n",
      "too low\n",
      "found it!\n"
     ]
    }
   ],
   "source": [
    "# 6.3 \n",
    "\n",
    "guess_me = 5\n",
    "\n",
    "for number in range(10):\n",
    "    if number < uess_me"
   ]
  },
  {
   "cell_type": "code",
   "execution_count": null,
   "id": "0b91f275",
   "metadata": {},
   "outputs": [],
   "source": []
  }
 ],
 "metadata": {
  "kernelspec": {
   "display_name": "Python 3 (ipykernel)",
   "language": "python",
   "name": "python3"
  },
  "language_info": {
   "codemirror_mode": {
    "name": "ipython",
    "version": 3
   },
   "file_extension": ".py",
   "mimetype": "text/x-python",
   "name": "python",
   "nbconvert_exporter": "python",
   "pygments_lexer": "ipython3",
   "version": "3.10.7"
  }
 },
 "nbformat": 4,
 "nbformat_minor": 5
}
