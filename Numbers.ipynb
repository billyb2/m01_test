{
 "cells": [
  {
   "cell_type": "code",
   "execution_count": 7,
   "id": "f69cf0da",
   "metadata": {},
   "outputs": [
    {
     "name": "stdout",
     "output_type": "stream",
     "text": [
      "Number of seconds in an hour: 3600\n",
      "\n",
      "Number of seconds in a day: 86400\n",
      "\n",
      "Float division seconds per day / seconds per hour 24.0\n",
      "Int division seconds per day / seconds per hour 24\n"
     ]
    }
   ],
   "source": [
    "num_seconds_in_minute = 60\n",
    "num_minutes_in_hour = 60\n",
    "\n",
    "seconds_per_hour = num_seconds_in_minute * num_minutes_in_hour\n",
    "print(\"Number of seconds in an hour: \" + str(num_seconds_in_hour) + \"\\n\")\n",
    "\n",
    "hours_per_day = 24\n",
    "seconds_per_day = hours_per_day * seconds_per_hour\n",
    "print(\"Number of seconds in a day: \" + str(seconds_per_day) + \"\\n\")\n",
    "\n",
    "print(\"Float division seconds per day / seconds per hour \" + str(seconds_per_day / seconds_per_hour))\n",
    "print(\"Int division seconds per day / seconds per hour \" + str(seconds_per_day // seconds_per_hour))"
   ]
  },
  {
   "cell_type": "code",
   "execution_count": null,
   "id": "82402a87",
   "metadata": {},
   "outputs": [],
   "source": []
  }
 ],
 "metadata": {
  "kernelspec": {
   "display_name": "Python 3 (ipykernel)",
   "language": "python",
   "name": "python3"
  },
  "language_info": {
   "codemirror_mode": {
    "name": "ipython",
    "version": 3
   },
   "file_extension": ".py",
   "mimetype": "text/x-python",
   "name": "python",
   "nbconvert_exporter": "python",
   "pygments_lexer": "ipython3",
   "version": "3.10.6"
  }
 },
 "nbformat": 4,
 "nbformat_minor": 5
}
