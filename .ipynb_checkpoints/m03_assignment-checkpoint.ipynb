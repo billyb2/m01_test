{
 "cells": [
  {
   "cell_type": "code",
   "execution_count": 20,
   "id": "93e977b2",
   "metadata": {},
   "outputs": [
    {
     "name": "stdout",
     "output_type": "stream",
     "text": [
      "['MOZZARELLA', 'Cinderella', 'salmonella']\n",
      "['MOZZARELLA', 'Cinderella']\n"
     ]
    }
   ],
   "source": [
    "# 7.4-7.7\n",
    "things = [\"mozzarella\", \"cinderella\", \"salmonella\"]\n",
    "second_item_list = list(things[1])\n",
    "second_item_list[0] = second_item_list[0].upper()\n",
    "things[1] = \"\".join(second_item_list)\n",
    "\n",
    "first_item = list(things[0])\n",
    "for i in range(len(first_item)):\n",
    "    first_item[i] = first_item[i].upper()\n",
    "    \n",
    "things[0] = \"\".join(first_item)\n",
    "    \n",
    "print(things)\n",
    "\n",
    "del things[2]\n",
    "\n",
    "print(things)"
   ]
  },
  {
   "cell_type": "code",
   "execution_count": 1,
   "id": "accc8ef2",
   "metadata": {},
   "outputs": [
    {
     "name": "stdout",
     "output_type": "stream",
     "text": [
      "['Harry', 'Ron', 'Hermione']\n",
      "1\n",
      "3\n",
      "5\n",
      "7\n",
      "9\n"
     ]
    }
   ],
   "source": [
    "# 9.1-9.2\n",
    "def good():\n",
    "    return ['Harry', 'Ron', 'Hermione']\n",
    "\n",
    "print(good())\n",
    "\n",
    "def get_odds():\n",
    "    for i in range(10):\n",
    "        if  i % 2 != 0:\n",
    "            yield i\n",
    "\n",
    "odds_gen = get_odds()\n",
    "            \n",
    "for i in range(5):\n",
    "    print(next(odds_gen))"
   ]
  },
  {
   "cell_type": "code",
   "execution_count": null,
   "id": "709d02d1",
   "metadata": {},
   "outputs": [],
   "source": []
  }
 ],
 "metadata": {
  "kernelspec": {
   "display_name": "Python 3 (ipykernel)",
   "language": "python",
   "name": "python3"
  },
  "language_info": {
   "codemirror_mode": {
    "name": "ipython",
    "version": 3
   },
   "file_extension": ".py",
   "mimetype": "text/x-python",
   "name": "python",
   "nbconvert_exporter": "python",
   "pygments_lexer": "ipython3",
   "version": "3.10.7"
  }
 },
 "nbformat": 4,
 "nbformat_minor": 5
}
